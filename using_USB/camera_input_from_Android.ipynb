{
 "cells": [
  {
   "cell_type": "markdown",
   "metadata": {},
   "source": [
    "\n",
    "\n",
    "1. Download droidcam app on your Android device from [play store](https://play.google.com/store/apps/details?id=com.dev47apps.droidcam&hl=en_IN)\n",
    "\n",
    "2. Download and install [Dev47app](https://www.dev47apps.com/droidcam/windows/) setup on your pc.\n",
    "\n",
    "3. On the phone, go to Settings -> Developer Options, and enable “USB Debugging”. \n",
    "    - (In case) On most phones the Developer options screen is hidden by default. To make it visible, go to Settings > About phone and tap “Build number” 7 times. Return to the    previous screen to find “Developer options” at the bottom.\n",
    "\n",
    "4. Plug the device into computer over USB and open Droidcam app. \n",
    "    - If you get a dialog on the phone asking “Allow USB Debugging”, you need to tap OK. \n",
    "    - If you get dialog `Use USB for` When you plugged in, give permission to Photo transfer(PTP)\n",
    "\n",
    "5. open Droidcam app on pc and click on USB logo and press refreash button, you will get your device name or some random string(unique id). \n",
    "\n",
    "6. Add port which is showing in your mobile screen(generally 4747). \n",
    "\n",
    "7. Hit start button and you will get camera input on your computer screen.\n",
    "\n",
    "8. run below code and you will get your mobile camera input(make sure you installed all libraries using requirements.txt)."
   ]
  },
  {
   "cell_type": "code",
   "execution_count": null,
   "metadata": {},
   "outputs": [],
   "source": [
    "import cv2\n",
    "\n",
    "cap = cv2.VideoCapture(1)\n",
    "'''if you get error instead of 1 try -1,2,3'''\n",
    "\n",
    "while True:\n",
    "    rate,frame = cap.read()\n",
    "    \n",
    "    cv2.imshow('web_cam',frame)\n",
    "\n",
    "    '''Press Q key for exit'''\n",
    "    \n",
    "    if cv2.waitKey(1) & 0xFF == ord('q'):\n",
    "        break\n",
    "        \n",
    "cap.release()\n",
    "cv2.destroyAllWindows()"
   ]
  }
 ],
 "metadata": {
  "kernelspec": {
   "display_name": "Python 3",
   "language": "python",
   "name": "python3"
  },
  "language_info": {
   "codemirror_mode": {
    "name": "ipython",
    "version": 3
   },
   "file_extension": ".py",
   "mimetype": "text/x-python",
   "name": "python",
   "nbconvert_exporter": "python",
   "pygments_lexer": "ipython3",
   "version": "3.7.0"
  }
 },
 "nbformat": 4,
 "nbformat_minor": 4
}