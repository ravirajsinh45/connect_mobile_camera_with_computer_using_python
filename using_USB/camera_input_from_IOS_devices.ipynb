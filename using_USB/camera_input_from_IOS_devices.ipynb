{
 "cells": [
  {
   "cell_type": "markdown",
   "metadata": {},
   "source": [
    "# Steps\n",
    "\n",
    "\n",
    "1. Download droidcam app on your IOS device from [app store](https://apps.apple.com/us/app/droidcam-wireless-webcam/id1510258102)\n",
    "\n",
    "2. Download and install [Dev47app](https://www.dev47apps.com/droidcam/windows/) setup on your pc for ios devices.\n",
    "\n",
    "3. open Droidcam on your iphone.\n",
    "\n",
    "4. open Droidcam app on pc \n",
    "\n",
    "5. Hit start button and you will get camera input on your computer screen\n",
    "\n",
    "6. Run below cell you will get input from your phone camera"
   ]
  },
  {
   "cell_type": "code",
   "execution_count": null,
   "metadata": {},
   "outputs": [],
   "source": [
    "import cv2\n",
    "\n",
    "cap = cv2.VideoCapture(1)\n",
    "\n",
    "while True:\n",
    "    rate,frame = cap.read()\n",
    "    \n",
    "    cv2.imshow('web_cam',frame)\n",
    "\n",
    "    '''Press Q key for exit'''\n",
    "    \n",
    "    if cv2.waitKey(1) & 0xFF == ord('q'):\n",
    "        break\n",
    "        \n",
    "cap.release()\n",
    "cv2.destroyAllWindows()"
   ]
  }
 ],
 "metadata": {
  "kernelspec": {
   "display_name": "Python 3",
   "language": "python",
   "name": "python3"
  },
  "language_info": {
   "codemirror_mode": {
    "name": "ipython",
    "version": 3
   },
   "file_extension": ".py",
   "mimetype": "text/x-python",
   "name": "python",
   "nbconvert_exporter": "python",
   "pygments_lexer": "ipython3",
   "version": "3.7.0"
  }
 },
 "nbformat": 4,
 "nbformat_minor": 4
}
