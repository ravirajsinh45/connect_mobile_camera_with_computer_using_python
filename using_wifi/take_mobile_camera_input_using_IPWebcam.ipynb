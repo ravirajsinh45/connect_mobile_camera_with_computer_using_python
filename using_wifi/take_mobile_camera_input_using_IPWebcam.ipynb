{
 "cells": [
  {
   "cell_type": "markdown",
   "metadata": {},
   "source": [
    "# Steps:\n",
    "\n",
    "* connect both mobile and computer with same **Internet**\n",
    "    - If you have wifi than connect both computer and mobile with wifi\n",
    "    - If you do not have wifi than turn on mobile hotspot and connect PC with it.\n",
    "* Open Ip Webcam app\n",
    "* scroll down to bottom than click on **start server** button\n",
    "* Now app establish local addresh "
   ]
  },
  {
   "cell_type": "code",
   "execution_count": 1,
   "metadata": {},
   "outputs": [],
   "source": [
    "# shift + enter to import require library\n",
    "import os\n",
    "import cv2\n",
    "import numpy as np\n",
    "import requests"
   ]
  },
  {
   "cell_type": "markdown",
   "metadata": {},
   "source": [
    "* Copy that address and add in below cell"
   ]
  },
  {
   "cell_type": "code",
   "execution_count": 2,
   "metadata": {},
   "outputs": [],
   "source": [
    "port_address = 'http://192.168.43.1:8080//'#if you have different address than this than change"
   ]
  },
  {
   "cell_type": "code",
   "execution_count": null,
   "metadata": {},
   "outputs": [],
   "source": []
  },
  {
   "cell_type": "markdown",
   "metadata": {},
   "source": [
    "Choose your required image size here which save last frame to image when you press **Esc** key"
   ]
  },
  {
   "cell_type": "code",
   "execution_count": 3,
   "metadata": {},
   "outputs": [],
   "source": [
    "img_width =512\n",
    "img_height = 512"
   ]
  },
  {
   "cell_type": "markdown",
   "metadata": {},
   "source": [
    "Below written code will take frame from camera and will display it. when you press **Esc** key loop will break  and only last frame will save as image.jpg"
   ]
  },
  {
   "cell_type": "code",
   "execution_count": 4,
   "metadata": {},
   "outputs": [],
   "source": [
    "while True:\n",
    "\n",
    "    img_req = requests.get(port_address + 'shot.jpg')\n",
    "    img_arr = np.array(bytearray(img_req.content), dtype=np.uint8)\n",
    "    img = cv2.imdecode(img_arr, -1)\n",
    "    \n",
    "    cv2.imshow('Mobile_cam', img)\n",
    "    \n",
    "    if cv2.waitKey(1) & 0xFF == 27:\n",
    "        frame = cv2.resize(img,(img_width,img_height))\n",
    "        cv2.imwrite('image.jpg', img)\n",
    "        break\n",
    "\n",
    "\n",
    "cv2.destroyAllWindows()"
   ]
  },
  {
   "cell_type": "markdown",
   "metadata": {},
   "source": [
    "Browse port address in web browser and explore more settings from there....\n",
    "LIKE\n",
    "* Change quality\n",
    "* zooming\n",
    "* flip camera(front/back)\n",
    "* horizontal/portrat\n",
    "\n",
    "And many more\n",
    "\n",
    "will update code for save video file........till enjoy!\n",
    "# Thank you:)"
   ]
  }
 ],
 "metadata": {
  "kernelspec": {
   "display_name": "Python 3",
   "language": "python",
   "name": "python3"
  },
  "language_info": {
   "codemirror_mode": {
    "name": "ipython",
    "version": 3
   },
   "file_extension": ".py",
   "mimetype": "text/x-python",
   "name": "python",
   "nbconvert_exporter": "python",
   "pygments_lexer": "ipython3",
   "version": "3.7.0"
  }
 },
 "nbformat": 4,
 "nbformat_minor": 4
}
